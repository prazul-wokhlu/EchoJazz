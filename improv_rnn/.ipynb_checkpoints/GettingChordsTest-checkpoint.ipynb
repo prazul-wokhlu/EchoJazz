{
 "cells": [
  {
   "cell_type": "code",
   "execution_count": 1,
   "metadata": {},
   "outputs": [
    {
     "ename": "ModuleNotFoundError",
     "evalue": "No module named 'music21'",
     "output_type": "error",
     "traceback": [
      "\u001b[0;31m---------------------------------------------------------------------------\u001b[0m",
      "\u001b[0;31mModuleNotFoundError\u001b[0m                       Traceback (most recent call last)",
      "\u001b[0;32m<ipython-input-1-145bfe5eae61>\u001b[0m in \u001b[0;36m<module>\u001b[0;34m\u001b[0m\n\u001b[0;32m----> 1\u001b[0;31m \u001b[0;32mfrom\u001b[0m \u001b[0mmusic21\u001b[0m \u001b[0;32mimport\u001b[0m \u001b[0;34m*\u001b[0m\u001b[0;34m\u001b[0m\u001b[0;34m\u001b[0m\u001b[0m\n\u001b[0m\u001b[1;32m      2\u001b[0m \u001b[0;32mimport\u001b[0m \u001b[0mos\u001b[0m\u001b[0;34m\u001b[0m\u001b[0;34m\u001b[0m\u001b[0m\n\u001b[1;32m      3\u001b[0m \u001b[0;32mimport\u001b[0m \u001b[0mglob\u001b[0m\u001b[0;34m\u001b[0m\u001b[0;34m\u001b[0m\u001b[0m\n",
      "\u001b[0;31mModuleNotFoundError\u001b[0m: No module named 'music21'"
     ]
    }
   ],
   "source": [
    "from music21 import *\n",
    "import os\n",
    "import glob"
   ]
  },
  {
   "cell_type": "code",
   "execution_count": 4,
   "metadata": {},
   "outputs": [],
   "source": [
    "def get_chords(filename):\n",
    "\n",
    "    s = converter.parse(filename)\n",
    "    m = s.parts[0].getElementsByClass(stream.Measure)\n",
    "\n",
    "    i = 0\n",
    "    chordChart = []\n",
    "\n",
    "    while i < len(m):\n",
    "        c = m[i].getElementsByClass(harmony.ChordSymbol)\n",
    "\n",
    "        if(len(c) == 0):\n",
    "            chordChart.append('{:1} '.format('')) \n",
    "        if(len(c) == 1):\n",
    "            c0=c[0].figure\n",
    "            chordChart.append('{:1} '.format(c0))\n",
    "        if(len(c) == 2):\n",
    "            c0=c[0].figure\n",
    "            c1=c[1].figure\n",
    "            chordChart.append('{:1} '.format(c0,c1))\n",
    "        if(len(c) == 3):\n",
    "            c0=c[0].figure\n",
    "            c1=c[1].figure\n",
    "            c2=c[2].figure\n",
    "            chordChart.append('{:1} '.format(c0,c1,c2))\n",
    "        if(len(c) == 4):\n",
    "            c0=c[0].figure\n",
    "            c1=c[1].figure\n",
    "            c2=c[2].figure\n",
    "            c3=c[3].figure\n",
    "            chordChart.append('{:1} '.format(c0,c1,c2,c3))\n",
    "        i += 1\n",
    "    \n",
    "    j = 0\n",
    "    while j < len(chordChart)-1:\n",
    "        if chordChart[j+1] == \"  \":\n",
    "            chordChart[j+1] = chordChart[j]\n",
    "        j+=1\n",
    "    \n",
    "    finalChart = \"\"\n",
    "    \n",
    "    for chord in chordChart:\n",
    "        finalChart += chord\n",
    "    \n",
    "    \n",
    "    finalChart = finalChart.replace(\"-\",\"b\")\n",
    "    finalChart = finalChart.replace(' alter ', 'aug')\n",
    "    finalChart = finalChart.replace(' add ','')\n",
    "    finalChart = finalChart.replace(\"/o\", \"dim\")\n",
    "    finalChart = finalChart.replace(\"o\", \"dim\")\n",
    "    \n",
    "    return finalChart.lstrip().rstrip()\n",
    "    \n",
    "  \n"
   ]
  },
  {
   "cell_type": "code",
   "execution_count": 66,
   "metadata": {},
   "outputs": [],
   "source": [
    "song_chords = dict()"
   ]
  },
  {
   "cell_type": "code",
   "execution_count": 67,
   "metadata": {},
   "outputs": [],
   "source": [
    "file_paths = glob.glob(r'C:\\Users\\prazu\\prazul\\Cog_Week4\\JazzImprov\\songs_for_chords\\*.mxl')"
   ]
  },
  {
   "cell_type": "code",
   "execution_count": 68,
   "metadata": {},
   "outputs": [
    {
     "name": "stdout",
     "output_type": "stream",
     "text": [
      "All Of Me\n",
      "All The Things You Are\n",
      "Autumn Leaves\n",
      "A Night in Tunisia\n",
      "Bags Groove\n",
      "Billies Bounce\n",
      "Body and Soul\n",
      "Caravan\n",
      "Cherokee\n",
      "Fly Me To The Moon\n",
      "Georgia on my Mind\n",
      "I Got Rhythm\n",
      "Just Friends\n",
      "Misty\n",
      "Mr P.C.\n",
      "Round Midnight\n",
      "Somewhere Over the Rainbow\n",
      "Take the a train\n",
      "The Nearness of You\n"
     ]
    }
   ],
   "source": [
    "for file in file_paths:\n",
    "    name = os.path.basename(file)    \n",
    "    song_chords[name[:name.index(\".mxl\")].replace(\"_\", \" \")] = get_chords(file)\n",
    "    print(name[:name.index(\".mxl\")].replace(\"_\", \" \"))"
   ]
  },
  {
   "cell_type": "code",
   "execution_count": 64,
   "metadata": {},
   "outputs": [
    {
     "data": {
      "text/plain": [
       "{'All Of Me': 'C6 C6 E7 E7 A7 A7 Dm7 Dm7 E7 E7 Am7 Am7 D7 D7 Dm7 G7 C6 C6 E7 E7 A7 A7 Dm7 Dm7 F6 Fm6 Cmaj7 A7 Dm7 G7 C6 Dm7',\n",
       " 'All The Things You Are': 'G G D7 D7 G G D7 Eb7+ G/A G B7 B7 G/A D7 G C7 Fm7 Bbm7 Eb7 Abmaj7 Dbmaj7 G7 Cmaj7 C6 Cm7 Fm7 Bb7 Ebmaj7 Abmaj7 D7 Gmaj7 Gmaj7 Am7 D7 Gmaj7 Gmaj7 F#m7 B7 Emaj7 C7aug#5 Fm7 Bbm7 Eb7 Abmaj7 Dbmaj7 Gb13 Cm7 Bdim7 Bbm7 Eb7 Ab6 Bbm6',\n",
       " 'Autumn Leaves': 'Am7 D7 G C F#dim7 B7 Em Em B7 Em Em F#dim7 B7b9 Em Em Am7 D7 G G F#dim7 B7b9 Em7 Dm7 C B7b9 Em Em',\n",
       " 'A Night in Tunisia': 'Eb7 Dm Eb7 Dm Eb7 Dm Edim7 Dm Eb7 Dm Eb7 Dm Eb7 Dm Edim7 Dm Adim7 D7b9 Gm Gm Gdim7 C7b9 F6 Edim7 Eb7 Dm Eb7 Dm Eb7 Dm Edim7 Dm',\n",
       " 'Bags Groove': 'F7 Bb7 F7 F7 Bb7 Bb7 F7 F7 Gm7 C7 F7 Gm7 F7 Bb7 F7 F7 Bb7 Bb7 F7 F7 Gm7 C7 F7 Gm7',\n",
       " 'Billies Bounce': 'F7 Bb7 F7 Cm7 Bb7 Bdim F7 Am7 Gm7 C7 F7 Gm7',\n",
       " 'Body and Soul': 'Ebm7 Ebm7 Dbmaj7 Fm7 Ebm7 Cdim7 Bbm7 Db6 Ebm7 Ebm7 Dbmaj7 Fm7 Ebm7 Cdim7 Bbm7 Db6 Dmaj7 F#m7 F#m7 Dmaj7 Dm7 Em7 Dm7 C7 Ebm7 Ebm7 Dbmaj7 Fm7 Ebm7 Cdim7 Bbm7 Db6',\n",
       " 'Caravan': 'C7b9 C7b9 C7b9 C7b9 C7b9 C7b9 C7b9 C7b9 C7b9 C7b9 C7b9 C7b9 Fm6 Fm6 Fm6 Fm6 F7 F7 F7 F7 Bb7 Bb7 Bb7 Bb7 Eb7 Eb7 Eb7 Eb7 Ab7 Ab7 G7augb5#5b9#9 G7augb5#5b9#9',\n",
       " 'Cherokee': 'Bb6 Bb6 Bb7 Bb7 Eb Eb Ab9 Ab9 Bb6 Bb6 C9 C9 Cm7 G7b9 Cm7 F7+ Cm7 F7 Bb6 Bb6 C#m7 F#7 B B Bm7 E7 A A Am7 D7 G G Gm7 C7 Cm7 Cm7 Bb6 Bb6 Bb7 Bb7 Eb Eb Ab9 Ab9 Bb6 Bb6 C9 C9 Cm7 F7 Bb6 Cm7 Cm7 Cm7 Bb6 Bb13aug#11',\n",
       " 'Fly Me To The Moon': 'C C6 C Dm7 Dm Dm7 G7 C F C F Em7 Dm7 C Dm Bdim7 Am7 Dm7 G7 C F Bdim7 E7b9 Am7 Dm7 G7 C Em7 Dm7 G7 C Bdim7 Am7 Dm7 G7 C F Bdim7 E7b9 Am7 Dm7 G7 Em7 A7 Dm7 G7 C',\n",
       " 'Georgia on my Mind': 'Gmaj7 F#dim7 Em7 Cmaj7 G/B Am7 G Am7 Gmaj7 F#dim7 Em7 Cmaj7 G/B Am7 Gmaj7 G7 Em7 Em7 Em7 Em7 Em7 C#dim7 Bdim7 Am7 Gmaj7 F#dim7 Em7 Cmaj7 G/B Am7 G6 G6',\n",
       " 'I Got Rhythm': 'Bb Cm7 Bb6 Cm7 Bb Cm7 Bb F7 Bb Cm7 Bb6 Cm7 Bb Cm7 Bb Bb D7 Fm6 G Dm C7 Ebm6 C7augb5 F7 Bb Cm7 Bb6 Cm7 Bb Cm7 Bb G7 C7 Db',\n",
       " 'Just Friends': 'G7 Cmaj7 Cmaj7 Cm7 F7 Gmaj7 Gmaj7 Bbm7 Eb7 Am7 D7 Bm7 Em7 A7 A7 Am7 D7 Cmaj7 Cmaj7 Cm7 F7 Gmaj7 Gmaj7 Bbm7 Eb7 Am7 D7 Bm7 Em7 A7 Am7 G6 Dm7',\n",
       " 'Misty': 'Eb Bbm9 Ab Abm9 Eb Fm7 G7 F9 Eb Bbm9 Ab Abm9 Eb Fm7 Eb6 Eb6 Bbm7 Bbm7 Ab Ab6 Am7 D7 Bb7 Fm7 Eb Bbm9 Ab Abm9 Eb Fm7 Eb6 Fm7',\n",
       " 'Mr P.C.': 'Cm Fm Cm Cm Fm Fm Cm Cm Ab7 G7 Cm G7',\n",
       " 'Round Midnight': 'Ebm Fdim7 Ebm7 Bm7 Abm7 Ebm7 Cb7 Bb7 Ebm Fdim7 Ebm7 Bm7 Abm7 Ebm7 Cb7 Ebm7 Cdim7 Bb7 Cdim7 Bb7 Abm7 Cb7 Eb7 Cb7 Ebm Fdim7 Ebm7 Bm7 Abm7 Ebm7 Cb7 Ebm7',\n",
       " 'Somewhere Over the Rainbow': 'Eb Gm Ab Eb Ab Eb Fm7 Eb Eb Eb Fm7 Gm7 Fm7 Eb Am7 Gm7 Fm7 Eb Gm Ab Eb Ab Eb Fm7 Eb',\n",
       " 'Take the a train': 'Am7 Am7 Am7 Am7 C6 C6 D7 D7 Dm7 G7 C6 Dm7 F6 F6 F6 F6 D7 D7 Dm7 G7 C6 C6 D7 D7 Dm7 G7 C6 C6',\n",
       " 'The Nearness of You': 'Fmaj7 Cm7 Bbmaj7 Bbdim7 Am7 Gm7 Am7 Gm7 Fmaj7 Cm7 Bbmaj7 Bbdim7 Am7 Gm7 Fmaj7 Fmaj7 Gm7 C7 Fmaj7 Cm7 Bbmaj7 Am7 G7 Gm7 Fmaj7 Cm7 Bbmaj7 Bbdim7 Am7 Gm7 Adim7 D7 Gm7 C7 Fmaj7 Fmaj7'}"
      ]
     },
     "execution_count": 64,
     "metadata": {},
     "output_type": "execute_result"
    }
   ],
   "source": [
    "song_chords"
   ]
  },
  {
   "cell_type": "code",
   "execution_count": 12,
   "metadata": {},
   "outputs": [],
   "source": [
    "import pickle"
   ]
  },
  {
   "cell_type": "code",
   "execution_count": 70,
   "metadata": {},
   "outputs": [],
   "source": [
    "with open('song_chords.pkl','wb') as f:\n",
    "    pickle.dump(song_chords,f)"
   ]
  },
  {
   "cell_type": "code",
   "execution_count": 71,
   "metadata": {},
   "outputs": [
    {
     "name": "stdout",
     "output_type": "stream",
     "text": [
      "{'All Of Me': 'C6 C6 E7 E7 A7 A7 Dm7 Dm7 E7 E7 Am7 Am7 D7 D7 Dm7 G7 C6 C6 E7 E7 A7 A7 Dm7 Dm7 F6 Fm6 Cmaj7 A7 Dm7 G7 C6 Dm7', 'All The Things You Are': 'G G D7 D7 G G D7 Eb7+ G/A G Bsus7 B7 G/A Dsus7 G C7 Fm7 Bbm7 Eb7 Abmaj7 Dbmaj7 G7 Cmaj7 C6 Cm7 Fm7 Bb7 Ebmaj7 Abmaj7 D7 Gmaj7 Gmaj7 Am7 D7 Gmaj7 Gmaj7 F#m7 B7 Emaj7 C7aug#5 Fm7 Bbm7 Eb7 Abmaj7 Dbmaj7 Gb13 Cm7 Bdim7 Bbm7 Eb7 Ab6 Bbm6', 'Autumn Leaves': 'Am7 D7 G C F#dim7 B7 Em Em B7 Em Em F#dim7 B7b9 Em Em Am7 D7 G G F#dim7 B7b9 Em7 Dm7 C B7b9 Em Em', 'A Night in Tunisia': 'Eb7 Dm Eb7 Dm Eb7 Dm Edim7 Dm Eb7 Dm Eb7 Dm Eb7 Dm Edim7 Dm Adim7 D7b9 Gm Gm Gdim7 C7b9 F6 Edim7 Eb7 Dm Eb7 Dm Eb7 Dm Edim7 Dm', 'Bags Groove': 'F7 Bb7 F7 F7 Bb7 Bb7 F7 F7 Gm7 C7 F7 Gm7 F7 Bb7 F7 F7 Bb7 Bb7 F7 F7 Gm7 C7 F7 Gm7', 'Billies Bounce': 'F7 Bb7 F7 Cm7 Bb7 Bdim F7 Am7 Gm7 C7 F7 Gm7', 'Body and Soul': 'Ebm7 Ebm7 Dbmaj7 Fm7 Ebm7 Cdim7 Bbm7 Db6 Ebm7 Ebm7 Dbmaj7 Fm7 Ebm7 Cdim7 Bbm7 Db6 Dmaj7 F#m7 F#m7 Dmaj7 Dm7 Em7 Dm7 C7 Ebm7 Ebm7 Dbmaj7 Fm7 Ebm7 Cdim7 Bbm7 Db6', 'Caravan': 'C7b9 C7b9 C7b9 C7b9 C7b9 C7b9 C7b9 C7b9 C7b9 C7b9 C7b9 C7b9 Fm6 Fm6 Fm6 Fm6 F7 F7 F7 F7 Bb7 Bb7 Bb7 Bb7 Eb7 Eb7 Eb7 Eb7 Ab7 Ab7 G7augb5#5b9#9 G7augb5#5b9#9', 'Cherokee': 'Bb6 Bb6 Bb7 Bb7 Eb Eb Ab9 Ab9 Bb6 Bb6 C9 C9 Cm7 G7b9 Cm7 F7+ Cm7 F7 Bb6 Bb6 C#m7 F#7 B B Bm7 E7 A A Am7 D7 G G Gm7 C7 Cm7 Cm7 Bb6 Bb6 Bb7 Bb7 Eb Eb Ab9 Ab9 Bb6 Bb6 C9 C9 Cm7 F7 Bb6 Cm7 Cm7 Cm7 Bb6 Bb13aug#11', 'Fly Me To The Moon': 'C C6 C Dm7 Dm Dm7 G7 C F C F Em7 Dm7 C Dm Bdim7 Am7 Dm7 G7 C F Bdim7 E7b9 Am7 Dm7 G7 C Em7 Dm7 G7 C Bdim7 Am7 Dm7 G7 C F Bdim7 E7b9 Am7 Dm7 G7 Em7 A7 Dm7 G7 C', 'Georgia on my Mind': 'Gmaj7 F#dim7 Em7 Cmaj7 G/B Am7 G Am7 Gmaj7 F#dim7 Em7 Cmaj7 G/B Am7 Gmaj7 G7 Em7 Em7 Em7 Em7 Em7 C#dim7 Bdim7 Am7 Gmaj7 F#dim7 Em7 Cmaj7 G/B Am7 G6 G6', 'I Got Rhythm': 'Bb Cm7 Bb6 Cm7 Bb Cm7 Bb F7 Bb Cm7 Bb6 Cm7 Bb Cm7 Bb Bb D7 Fm6 G Dm C7 Ebm6 C7augb5 F7 Bb Cm7 Bb6 Cm7 Bb Cm7 Bb G7 C7 Db', 'Just Friends': 'G7 Cmaj7 Cmaj7 Cm7 F7 Gmaj7 Gmaj7 Bbm7 Eb7 Am7 D7 Bm7 Em7 A7 A7 Am7 D7 Cmaj7 Cmaj7 Cm7 F7 Gmaj7 Gmaj7 Bbm7 Eb7 Am7 D7 Bm7 Em7 A7 Am7 G6 Dm7', 'Misty': 'Eb Bbm9 Ab Abm9 Eb Fm7 G7 F9 Eb Bbm9 Ab Abm9 Eb Fm7 Eb6 Eb6 Bbm7 Bbm7 Ab Ab6 Am7 D7 Bb7 Fm7 Eb Bbm9 Ab Abm9 Eb Fm7 Eb6 Fm7', 'Mr P.C.': 'Cm Fm Cm Cm Fm Fm Cm Cm Ab7 G7 Cm G7', 'Round Midnight': 'Ebm Fdim7 Ebm7 Bm7 Abm7 Ebm7 Cb7 Bb7 Ebm Fdim7 Ebm7 Bm7 Abm7 Ebm7 Cb7 Ebm7 Cdim7 Bb7 Cdim7 Bb7 Abm7 Cb7 Eb7 Cb7 Ebm Fdim7 Ebm7 Bm7 Abm7 Ebm7 Cb7 Ebm7', 'Somewhere Over the Rainbow': 'Eb Gm Ab Eb Ab Eb Fm7 Eb Eb Eb Fm7 Gm7 Fm7 Eb Am7 Gm7 Fm7 Eb Gm Ab Eb Ab Eb Fm7 Eb', 'Take the a train': 'Am7 Am7 Am7 Am7 C6 C6 D7 D7 Dm7 G7 C6 Dm7 F6 F6 F6 F6 D7 D7 Dm7 G7 C6 C6 D7 D7 Dm7 G7 C6 C6', 'The Nearness of You': 'Fmaj7 Cm7 Bbmaj7 Bbdim7 Am7 Gm7 Am7 Gm7 Fmaj7 Cm7 Bbmaj7 Bbdim7 Am7 Gm7 Fmaj7 Fmaj7 Gm7 C7 Fmaj7 Cm7 Bbmaj7 Am7 G7 Gm7 Fmaj7 Cm7 Bbmaj7 Bbdim7 Am7 Gm7 Adim7 D7 Gm7 C7 Fmaj7 Fmaj7'}\n"
     ]
    }
   ],
   "source": [
    "with open('song_chords.pkl','rb') as f2:\n",
    "    b=pickle.load(f2)\n",
    "print(b)"
   ]
  },
  {
   "cell_type": "code",
   "execution_count": 15,
   "metadata": {},
   "outputs": [],
   "source": [
    "other_paths = glob.glob(r'C:\\Users\\prazu\\prazul\\Cog_Week4\\JazzImprov\\midis_for_songs\\*.mid')"
   ]
  },
  {
   "cell_type": "code",
   "execution_count": 16,
   "metadata": {},
   "outputs": [],
   "source": [
    "song_midis = dict()"
   ]
  },
  {
   "cell_type": "code",
   "execution_count": 20,
   "metadata": {},
   "outputs": [
    {
     "name": "stdout",
     "output_type": "stream",
     "text": [
      "All Of Me\n",
      "All The Things You Are\n",
      "Autumn Leaves\n",
      "A Night in Tunisia\n",
      "Bags Groove\n",
      "Billies Bounce\n",
      "Body and Soul\n",
      "Caravan\n",
      "Cherokee\n",
      "Fly Me To The Moon\n",
      "Georgia on my Mind\n",
      "I Got Rhythm\n",
      "Just Friends\n",
      "Misty\n",
      "Mr P.C.\n",
      "Round Midnight\n",
      "Somewhere Over the Rainbow\n",
      "Take the a train\n",
      "The Nearness of You\n"
     ]
    }
   ],
   "source": [
    "for mid in other_paths:\n",
    "    name = os.path.basename(mid)    \n",
    "    song_midis[name[:name.index(\".mid\")].replace(\"_\", \" \")] = mid\n",
    "    print(name[:name.index(\".mid\")].replace(\"_\", \" \"))"
   ]
  },
  {
   "cell_type": "code",
   "execution_count": 21,
   "metadata": {},
   "outputs": [],
   "source": [
    "with open('song_midis.pkl','wb') as f:\n",
    "    pickle.dump(song_midis,f)"
   ]
  },
  {
   "cell_type": "code",
   "execution_count": 22,
   "metadata": {},
   "outputs": [
    {
     "name": "stdout",
     "output_type": "stream",
     "text": [
      "{'All Of Me': 'C:\\\\Users\\\\prazu\\\\prazul\\\\Cog_Week4\\\\JazzImprov\\\\midis_for_songs\\\\All_Of_Me.mid', 'All The Things You Are': 'C:\\\\Users\\\\prazu\\\\prazul\\\\Cog_Week4\\\\JazzImprov\\\\midis_for_songs\\\\All_The_Things_You_Are.mid', 'Autumn Leaves': 'C:\\\\Users\\\\prazu\\\\prazul\\\\Cog_Week4\\\\JazzImprov\\\\midis_for_songs\\\\Autumn_Leaves.mid', 'A Night in Tunisia': 'C:\\\\Users\\\\prazu\\\\prazul\\\\Cog_Week4\\\\JazzImprov\\\\midis_for_songs\\\\A_Night_in_Tunisia.mid', 'Bags Groove': 'C:\\\\Users\\\\prazu\\\\prazul\\\\Cog_Week4\\\\JazzImprov\\\\midis_for_songs\\\\Bags_Groove.mid', 'Billies Bounce': 'C:\\\\Users\\\\prazu\\\\prazul\\\\Cog_Week4\\\\JazzImprov\\\\midis_for_songs\\\\Billies_Bounce.mid', 'Body and Soul': 'C:\\\\Users\\\\prazu\\\\prazul\\\\Cog_Week4\\\\JazzImprov\\\\midis_for_songs\\\\Body_and_Soul.mid', 'Caravan': 'C:\\\\Users\\\\prazu\\\\prazul\\\\Cog_Week4\\\\JazzImprov\\\\midis_for_songs\\\\Caravan.mid', 'Cherokee': 'C:\\\\Users\\\\prazu\\\\prazul\\\\Cog_Week4\\\\JazzImprov\\\\midis_for_songs\\\\Cherokee.mid', 'Fly Me To The Moon': 'C:\\\\Users\\\\prazu\\\\prazul\\\\Cog_Week4\\\\JazzImprov\\\\midis_for_songs\\\\Fly_Me_To_The_Moon.mid', 'Georgia on my Mind': 'C:\\\\Users\\\\prazu\\\\prazul\\\\Cog_Week4\\\\JazzImprov\\\\midis_for_songs\\\\Georgia_on_my_Mind.mid', 'I Got Rhythm': 'C:\\\\Users\\\\prazu\\\\prazul\\\\Cog_Week4\\\\JazzImprov\\\\midis_for_songs\\\\I_Got_Rhythm.mid', 'Just Friends': 'C:\\\\Users\\\\prazu\\\\prazul\\\\Cog_Week4\\\\JazzImprov\\\\midis_for_songs\\\\Just_Friends.mid', 'Misty': 'C:\\\\Users\\\\prazu\\\\prazul\\\\Cog_Week4\\\\JazzImprov\\\\midis_for_songs\\\\Misty.mid', 'Mr P.C.': 'C:\\\\Users\\\\prazu\\\\prazul\\\\Cog_Week4\\\\JazzImprov\\\\midis_for_songs\\\\Mr_P.C..mid', 'Round Midnight': 'C:\\\\Users\\\\prazu\\\\prazul\\\\Cog_Week4\\\\JazzImprov\\\\midis_for_songs\\\\Round_Midnight.mid', 'Somewhere Over the Rainbow': 'C:\\\\Users\\\\prazu\\\\prazul\\\\Cog_Week4\\\\JazzImprov\\\\midis_for_songs\\\\Somewhere_Over_the_Rainbow.mid', 'Take the a train': 'C:\\\\Users\\\\prazu\\\\prazul\\\\Cog_Week4\\\\JazzImprov\\\\midis_for_songs\\\\Take_the_a_train.mid', 'The Nearness of You': 'C:\\\\Users\\\\prazu\\\\prazul\\\\Cog_Week4\\\\JazzImprov\\\\midis_for_songs\\\\The_Nearness_of_You.mid'}\n"
     ]
    }
   ],
   "source": [
    "with open('song_midis.pkl','rb') as f2:\n",
    "    b=pickle.load(f2)\n",
    "print(b)"
   ]
  },
  {
   "cell_type": "code",
   "execution_count": null,
   "metadata": {},
   "outputs": [],
   "source": []
  }
 ],
 "metadata": {
  "kernelspec": {
   "display_name": "Python 3",
   "language": "python",
   "name": "python3"
  }
 },
 "nbformat": 4,
 "nbformat_minor": 2
}
